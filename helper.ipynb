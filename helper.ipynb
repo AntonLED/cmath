{
 "cells": [
  {
   "cell_type": "code",
   "execution_count": 9,
   "metadata": {},
   "outputs": [
    {
     "name": "stdout",
     "output_type": "stream",
     "text": [
      "Defaulting to user installation because normal site-packages is not writeable\n",
      "Requirement already satisfied: numpy in /home/anton/.local/lib/python3.10/site-packages (1.26.4)\n",
      "Requirement already satisfied: matplotlib in /home/anton/.local/lib/python3.10/site-packages (3.8.3)\n",
      "Requirement already satisfied: sympy in /usr/lib/python3/dist-packages (1.9)\n",
      "Requirement already satisfied: kiwisolver>=1.3.1 in /home/anton/.local/lib/python3.10/site-packages (from matplotlib) (1.4.5)\n",
      "Requirement already satisfied: cycler>=0.10 in /home/anton/.local/lib/python3.10/site-packages (from matplotlib) (0.12.1)\n",
      "Requirement already satisfied: python-dateutil>=2.7 in /home/anton/.local/lib/python3.10/site-packages (from matplotlib) (2.9.0.post0)\n",
      "Requirement already satisfied: fonttools>=4.22.0 in /home/anton/.local/lib/python3.10/site-packages (from matplotlib) (4.49.0)\n",
      "Requirement already satisfied: pyparsing>=2.3.1 in /usr/lib/python3/dist-packages (from matplotlib) (2.4.7)\n",
      "Requirement already satisfied: contourpy>=1.0.1 in /home/anton/.local/lib/python3.10/site-packages (from matplotlib) (1.2.0)\n",
      "Requirement already satisfied: pillow>=8 in /usr/lib/python3/dist-packages (from matplotlib) (9.0.1)\n",
      "Requirement already satisfied: packaging>=20.0 in /home/anton/.local/lib/python3.10/site-packages (from matplotlib) (23.2)\n",
      "Requirement already satisfied: six>=1.5 in /usr/lib/python3/dist-packages (from python-dateutil>=2.7->matplotlib) (1.16.0)\n",
      "Note: you may need to restart the kernel to use updated packages.\n"
     ]
    }
   ],
   "source": [
    "%pip install numpy matplotlib sympy "
   ]
  },
  {
   "cell_type": "code",
   "execution_count": 10,
   "metadata": {},
   "outputs": [],
   "source": [
    "import numpy as np \n",
    "import matplotlib.pyplot as plt \n",
    "from sympy import *\n",
    "\n",
    "init_printing()\n",
    "pp = pretty_print"
   ]
  },
  {
   "cell_type": "code",
   "execution_count": 11,
   "metadata": {},
   "outputs": [
    {
     "data": {
      "image/png": "[encoded data removed]",
      "text/latex": [
       "$\\displaystyle \\left. \\frac{d}{d \\xi} g{\\left(\\xi \\right)} \\right|_{\\substack{ \\xi=0 }} + \\frac{\\tau^{2} \\left. \\frac{d^{3}}{d \\xi^{3}} g{\\left(\\xi \\right)} \\right|_{\\substack{ \\xi=0 }}}{6} + \\frac{2 c^{2} g{\\left(0 \\right)}}{h^{2}} - \\frac{2 c^{2} f{\\left(0 \\right)}}{h^{2}} + \\frac{c^{2} \\tau^{2} \\left. \\frac{d^{2}}{d \\xi^{2}} g{\\left(\\xi \\right)} \\right|_{\\substack{ \\xi=0 }}}{h^{2}} - c^{2} \\left. \\frac{d^{2}}{d \\xi^{2}} f{\\left(\\xi \\right)} \\right|_{\\substack{ \\xi=0 }} - \\frac{c^{2} h^{2} \\left. \\frac{d^{4}}{d \\xi^{4}} f{\\left(\\xi \\right)} \\right|_{\\substack{ \\xi=0 }}}{12} + O\\left(\\tau^{4}\\right) + O\\left(h^{3}\\right)$"
      ],
      "text/plain": [
       "                    ⎛  3      ⎞│                                    ⎛  2      \n",
       "                  2 ⎜ d       ⎟│                               2  2 ⎜ d       \n",
       "                 τ ⋅⎜───(g(ξ))⎟│                              c ⋅τ ⋅⎜───(g(ξ))\n",
       "                    ⎜  3      ⎟│         2           2              ⎜  2      \n",
       "⎛d       ⎞│         ⎝dξ       ⎠│ξ=0   2⋅c ⋅g(0)   2⋅c ⋅f(0)         ⎝dξ       \n",
       "⎜──(g(ξ))⎟│    + ────────────────── + ───────── - ───────── + ────────────────\n",
       "⎝dξ      ⎠│ξ=0           6                 2           2                 2    \n",
       "                                          h           h                 h     \n",
       "\n",
       "⎞│                                 ⎛  4      ⎞│                   \n",
       "⎟│                            2  2 ⎜ d       ⎟│                   \n",
       "⎟│                           c ⋅h ⋅⎜───(f(ξ))⎟│                   \n",
       "⎟│         ⎛  2      ⎞│            ⎜  4      ⎟│                   \n",
       "⎠│ξ=0    2 ⎜ d       ⎟│            ⎝dξ       ⎠│ξ=0    ⎛ 4⎞    ⎛ 3⎞\n",
       "───── - c ⋅⎜───(f(ξ))⎟│    - ───────────────────── + O⎝τ ⎠ + O⎝h ⎠\n",
       "           ⎜  2      ⎟│                12                         \n",
       "           ⎝dξ       ⎠│ξ=0                                        "
      ]
     },
     "execution_count": 11,
     "metadata": {},
     "output_type": "execute_result"
    }
   ],
   "source": [
    "x = Symbol(\"x\")\n",
    "t = Symbol(\"t\")\n",
    "h = Symbol(\"h\")\n",
    "tau = Symbol(\"tau\")\n",
    "\n",
    "c = Symbol(\"c\")\n",
    "\n",
    "f = Function(\"f\")(x)\n",
    "g = Function(\"g\")(t)\n",
    "\n",
    "sf = lambda val: series(f, x, 0, 5).subs({x: val})\n",
    "sg = lambda val: series(g, t, 0, 5).subs({t: val})\n",
    "\n",
    "r = (sg(tau) - sg(-tau)) / 2 / tau - c**2 * (sf(-h) - (sg(tau) + sg(-tau)) +sf(h)) / h**2 \n",
    "\n",
    "r\n",
    "simplify(r)"
   ]
  },
  {
   "cell_type": "markdown",
   "metadata": {},
   "source": [
    "# Задача с системой"
   ]
  },
  {
   "cell_type": "code",
   "execution_count": 12,
   "metadata": {},
   "outputs": [
    {
     "name": "stdout",
     "output_type": "stream",
     "text": [
      "⎡⎛    ⎡⎡-1/4⎤⎤⎞  ⎛    ⎡⎡3⎤⎤⎞  ⎛   ⎡⎡1/2⎤⎤⎞⎤\n",
      "⎢⎜    ⎢⎢    ⎥⎥⎟  ⎜    ⎢⎢ ⎥⎥⎟  ⎜   ⎢⎢   ⎥⎥⎟⎥\n",
      "⎢⎜-5, ⎢⎢-3/4⎥⎥⎟, ⎜-1, ⎢⎢1⎥⎥⎟, ⎜1, ⎢⎢3/2⎥⎥⎟⎥\n",
      "⎢⎜    ⎢⎢    ⎥⎥⎟  ⎜    ⎢⎢ ⎥⎥⎟  ⎜   ⎢⎢   ⎥⎥⎟⎥\n",
      "⎣⎝    ⎣⎣ 1  ⎦⎦⎠  ⎝    ⎣⎣0⎦⎦⎠  ⎝   ⎣⎣ 1 ⎦⎦⎠⎦\n",
      "На левой границе 1, на правой 2 гранусловий!\n"
     ]
    }
   ],
   "source": [
    "A = Matrix([\n",
    "    [-1, 0, 1], \n",
    "    [0, -1, 3], \n",
    "    [-1, 3, -3]\n",
    "])\n",
    "\n",
    "\n",
    "def get_result(): \n",
    "    evals = []\n",
    "    evecs = []\n",
    "    for n, _, vec in A.eigenvects():\n",
    "        evals += [n]\n",
    "        evecs += [vec]\n",
    "\n",
    "    pp(list(zip(evals, evecs)))\n",
    "\n",
    "    l_cnt = 0\n",
    "    r_cnt = 0 \n",
    "    for eval in evals:\n",
    "        if eval > 0: l_cnt += 1\n",
    "        else: r_cnt += 1\n",
    "\n",
    "    pp(f\"На левой границе {l_cnt}, на правой {r_cnt} гранусловий!\")\n",
    "\n",
    "get_result()"
   ]
  },
  {
   "cell_type": "markdown",
   "metadata": {},
   "source": [
    "# Таблица разделенных разностей"
   ]
  },
  {
   "cell_type": "code",
   "execution_count": 13,
   "metadata": {},
   "outputs": [
    {
     "name": "stdout",
     "output_type": "stream",
     "text": [
      "⎛         -y(m - 3, n) + y(m - 2, n)⎞\n",
      "⎜3⋅h + x, ──────────────────────────⎟\n",
      "⎝                     h             ⎠\n",
      "⎛                     y(m - 3, n) - 2⋅y(m - 2, n) + y(m - 1, n)⎞\n",
      "⎜(2⋅h + x)⋅(3⋅h + x), ─────────────────────────────────────────⎟\n",
      "⎜                                           2                  ⎟\n",
      "⎝                                        2⋅h                   ⎠\n",
      "⎛                             y(m, n) - y(m - 3, n) + 3⋅y(m - 2, n) - 3⋅y(m - \n",
      "⎜(h + x)⋅(2⋅h + x)⋅(3⋅h + x), ────────────────────────────────────────────────\n",
      "⎜                                                         3                   \n",
      "⎝                                                      6⋅h                    \n",
      "\n",
      "1, n)⎞\n",
      "─────⎟\n",
      "     ⎟\n",
      "     ⎠\n"
     ]
    }
   ],
   "source": [
    "h = Symbol(\"h\")\n",
    "n, m = symbols(\"n m\", integer=True)\n",
    "y = Function(\"y\")\n",
    "x = symbols(\"x\")\n",
    "\n",
    "xs = [\n",
    "    -3*h, \n",
    "    -2*h, \n",
    "    -1*h, \n",
    "    0\n",
    "]\n",
    "\n",
    "fs = [ \n",
    "    y(m-3, n),\n",
    "    y(m-2, n),\n",
    "    y(m-1, n), \n",
    "    y(m, n) \n",
    "]\n",
    "\n",
    "def get_result():\n",
    "    N = len(xs)\n",
    "    M = N - 1\n",
    "\n",
    "    deltas = []\n",
    "\n",
    "    deltas += [[\n",
    "        together((fs[i+1] - fs[i]) / (xs[i+1] - xs[i])) for i in range(N-1)\n",
    "    ]]\n",
    "\n",
    "    for j in range(1, M): \n",
    "        deltas.append([\n",
    "            together((deltas[j-1][i+1] - deltas[j-1][i]) / (xs[i+j+1] - xs[i])) for i in range(len(deltas[j-1])-1) \n",
    "        ])\n",
    "\n",
    "    _mults = [1]\n",
    "\n",
    "\n",
    "    for i in range(1, M+1): \n",
    "        _mults.append(\n",
    "            _mults[i-1] * (x - xs[i-1])\n",
    "        )\n",
    "\n",
    "    for i in range(M): \n",
    "        pp((_mults[i+1], deltas[i][0]))\n",
    "\n",
    "get_result()"
   ]
  },
  {
   "cell_type": "code",
   "execution_count": null,
   "metadata": {},
   "outputs": [],
   "source": []
  }
 ],
 "metadata": {
  "kernelspec": {
   "display_name": "Python 3",
   "language": "python",
   "name": "python3"
  },
  "language_info": {
   "codemirror_mode": {
    "name": "ipython",
    "version": 3
   },
   "file_extension": ".py",
   "mimetype": "text/x-python",
   "name": "python",
   "nbconvert_exporter": "python",
   "pygments_lexer": "ipython3",
   "version": "3.10.12"
  }
 },
 "nbformat": 4,
 "nbformat_minor": 2
}
